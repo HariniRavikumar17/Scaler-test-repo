{
  "nbformat": 4,
  "nbformat_minor": 0,
  "metadata": {
    "colab": {
      "provenance": []
    },
    "kernelspec": {
      "name": "python3",
      "display_name": "Python 3"
    },
    "language_info": {
      "name": "python"
    }
  },
  "cells": [
    {
      "cell_type": "markdown",
      "source": [
        "# Git and GitHub\n",
        "\n",
        "\n",
        "\n",
        "\n",
        "\n",
        "\n",
        "\n",
        "\n",
        "\n"
      ],
      "metadata": {
        "id": "unPJk1kZLM_B"
      }
    },
    {
      "cell_type": "markdown",
      "source": [
        "---"
      ],
      "metadata": {
        "id": "8vO0unnyJQ9k"
      }
    },
    {
      "cell_type": "markdown",
      "source": [
        "## Content\n",
        "\n",
        "* Git with GitHub Desktop\n",
        "  * Version Control System\n",
        "  * Git vs. GitHub\n",
        "  * Basic Terminologies\n",
        "  * Creating a repository\n",
        "  * Pushing and Collaboration\n",
        "* Git with CLI\n",
        "  * Install & Initialize Git\n",
        "  * Staging Environment\n",
        "  * Git Commands\n",
        "  * Git Branches\n",
        "  * Creating a github repository\n",
        "  * Git Push & Pull\n",
        "  * Git Rebase & Merge\n",
        "  * GitHub Fork & Clone"
      ],
      "metadata": {
        "id": "VmxHbASuUzWF"
      }
    },
    {
      "cell_type": "markdown",
      "source": [
        "---"
      ],
      "metadata": {
        "id": "gBbtXQ7--t-T"
      }
    },
    {
      "cell_type": "markdown",
      "source": [
        "## Git using GitHub"
      ],
      "metadata": {
        "id": "hWE0tyoiTxll"
      }
    },
    {
      "cell_type": "markdown",
      "source": [
        "### Intuition for Git\n",
        "\n",
        "* Suppose you start working on a long-term project, and you're making changes to the project daily.\n",
        "* One day you realize that the previous version of a function made more sense and that you have wanted to return to that version.\n",
        "* Only if we had a place where we kept all versions of our code, we could have done it easily.\n",
        "\n",
        "<img src = https://d2beiqkhq929f0.cloudfront.net/public_assets/assets/000/063/172/original/version.png?1706065709 height = 300 width = 600>\n",
        "\n"
      ],
      "metadata": {
        "id": "WpbeDo-qa6lK"
      }
    },
    {
      "cell_type": "markdown",
      "source": [
        "### What is Git?\n",
        "\n",
        "* Git is a VCS (version control system).\n",
        "* But Git isn't any VCS, it's a distributed VCS which means that\n",
        "  * Every collaborator of the project will have a history of the changes made on their local machine.\n",
        "* It is distributed so you can access your code files from another computer and so can other developers.\n",
        "* People can work on different features of the project without having to communicate with each other or the server hosting the project."
      ],
      "metadata": {
        "id": "wo7aW69pdXe_"
      }
    },
    {
      "cell_type": "markdown",
      "source": [
        "### What is GitHub?\n",
        "\n",
        "* It is a platform for version control that uses Git at its core.\n",
        "* It lets you host the remote version of your project from where all the collaborators can have access to it.\n",
        "* Not just your own team members but any member of GitHub can contribute to your code (if it is a public project and you accept the changes proposed).\n",
        "* It also serves as a platform where people can find a plethora of open-source projects with their codes."
      ],
      "metadata": {
        "id": "3a9Ia1_0iidP"
      }
    },
    {
      "cell_type": "markdown",
      "source": [
        "There are other platforms as well that offer this:\n",
        "- Bitbucket\n",
        "- GitLab"
      ],
      "metadata": {
        "id": "p6PcBMvqn3sM"
      }
    },
    {
      "cell_type": "markdown",
      "source": [
        "<img src = https://d2beiqkhq929f0.cloudfront.net/public_assets/assets/000/063/173/original/push12.png?1706069414 height = 400 width = 600>\n",
        "\n",
        "\\\n",
        "Here’s how it all fits together:\n",
        "* You write your story on your computer using Git to keep track of changes.\n",
        "* You save snapshots (called commits) of your story with Git so you can go back in time if needed.\n",
        "* You put your story on GitHub, making it available on the internet for others to see.\n",
        "* Others can make copies of your story from GitHub to work on their versions.\n",
        "* They can suggest changes or improvements to your story and send them back to you (this is called a pull request).\n",
        "* You review their changes and decide if you want to include them in your story.\n",
        "* GitHub helps manage this collaboration, making it easier for everyone to work together on the same project.\n"
      ],
      "metadata": {
        "id": "ILV2NWm1qZy_"
      }
    },
    {
      "cell_type": "markdown",
      "source": [
        "### Difference between Git and GitHub\n",
        "\n",
        "* Git is a VCS that manages and keeps track of your code.\n",
        "* GitHub is a service that lets you host, share, and manage your code files on the internet.\n"
      ],
      "metadata": {
        "id": "UrVlYtvbu5S3"
      }
    },
    {
      "cell_type": "markdown",
      "source": [
        "**Please make sure -**\n",
        "* You have GitHub Desktop  installed,\n",
        "* Created and signed into your GitHub account.\n",
        "* Ref : https://docs.github.com/en/desktop/installing-and-authenticating-to-github-desktop/installing-github-desktop\n",
        "\n"
      ],
      "metadata": {
        "id": "Bx7JSDGiT2NQ"
      }
    },
    {
      "cell_type": "markdown",
      "source": [
        "---"
      ],
      "metadata": {
        "id": "cup9QSYA-lOI"
      }
    },
    {
      "cell_type": "markdown",
      "source": [
        "### What is a Repository?\n",
        "\n",
        "A **Repository** is like a folder where you keep all the files for your project.\n",
        "\n",
        "* **Local Repository**: Think of this as your personal folder on your computer. It's where you work on your project, make changes, and save your progress.\n",
        "\n",
        "* **Remote Repository**: This is like a backup or a shared folder on the internet. It's where you store your project online, so others can see it and collaborate with you."
      ],
      "metadata": {
        "id": "RF30WoldO7X-"
      }
    },
    {
      "cell_type": "markdown",
      "source": [
        "---"
      ],
      "metadata": {
        "id": "Rw19YOJT-fNc"
      }
    },
    {
      "cell_type": "markdown",
      "source": [
        "### Create a repository -"
      ],
      "metadata": {
        "id": "B-AaD2ATXA32"
      }
    },
    {
      "cell_type": "markdown",
      "source": [
        "1. Click \"Create a New Repository on your Hard Drive...\"\n",
        "2. In the “Create a New Repository” window, fill in the fields -\n",
        "  * **Name** - Defines the name of your repository both locally and on GitHub.\n",
        "  * **Description** - Self explanatory. Optional field.\n",
        "  * **Local path** - Location of the repository on your computer.\n",
        "3. **Initialize this repository with a README** - Creates an initial commit with a README.md file.\n",
        " * README file helps people understand the purpose of your project.\n",
        "4. **Git ignore** drop-down menu lets you add a custom file to ignore specific files in your local repository.\n",
        "5. **License** drop-down menu lets you add an open-source license to a LICENSE file in your repository.\n",
        "  * You don't need to worry about adding a license right away.\n",
        "6. Click Create repository.\n",
        "\n"
      ],
      "metadata": {
        "id": "bflPG73xXFT5"
      }
    },
    {
      "cell_type": "markdown",
      "source": [
        "<img src = https://d2beiqkhq929f0.cloudfront.net/public_assets/assets/000/063/223/original/git1.png?1706080980 height = 450 width = 650>"
      ],
      "metadata": {
        "id": "t1KP71-UZC3Y"
      }
    },
    {
      "cell_type": "markdown",
      "source": [
        "---"
      ],
      "metadata": {
        "id": "Mc9s_KU8-bu3"
      }
    },
    {
      "cell_type": "markdown",
      "source": [
        "### Working on the repository -"
      ],
      "metadata": {
        "id": "P1JBzTdsblRs"
      }
    },
    {
      "cell_type": "markdown",
      "source": [
        "1. We can now go to the git folder that we want to work with and open a file in the code editor.\n",
        "2. We can update our code or even add/remove some files.\n",
        "3. If we then go back to the repository in github desktop, it will show the difference in the two versions of the updated file."
      ],
      "metadata": {
        "id": "5ZKGrkqCIXeO"
      }
    },
    {
      "cell_type": "markdown",
      "source": [
        "<img src = https://d2beiqkhq929f0.cloudfront.net/public_assets/assets/000/063/296/original/git3.png?1706113772 height = 400 width = 750>"
      ],
      "metadata": {
        "id": "rJjSx4wsTDdU"
      }
    },
    {
      "cell_type": "markdown",
      "source": [
        "4. Now we can add a summary, description and click on '**Commit to main**'.\n",
        "5. Our history is saved. We can check it in the **History** tab.\n",
        "\n",
        "But these changes are only available on your local machine because we haven't pushed anything to the remote repository yet."
      ],
      "metadata": {
        "id": "0TbuvWBMR5_Y"
      }
    },
    {
      "cell_type": "markdown",
      "source": [
        "You can publish your repository to GitHub to keep it synchronized across multiple computers and allow other people to access it.\n",
        "\n",
        "1. To publish your repository, **push** your local changes to GitHub.\n",
        "2. In the **Publish Repository** window, enter details for your new repository.  \n",
        "3. **Keep this code private** lets you control who can view your project.\n",
        "4. The **Organization** drop-down menu, if present, lets you publish your repository to a specific organization that you belong to on GitHub.\n",
        "5. Click Publish Repository."
      ],
      "metadata": {
        "id": "b2KBC65tUnxn"
      }
    },
    {
      "cell_type": "markdown",
      "source": [
        "<img src = https://d2beiqkhq929f0.cloudfront.net/public_assets/assets/000/063/300/original/git4.png?1706115506 height = 400 width = 700>"
      ],
      "metadata": {
        "id": "fjj8eWhZZ5Bh"
      }
    },
    {
      "cell_type": "markdown",
      "source": [
        "---"
      ],
      "metadata": {
        "id": "rcCYNnRt-Yfx"
      }
    },
    {
      "cell_type": "markdown",
      "source": [
        "### Pushing and Collaboration"
      ],
      "metadata": {
        "id": "824GZFqwpdSE"
      }
    },
    {
      "cell_type": "markdown",
      "source": [
        "* **Pull**: Pull not only downloads changes from a remote repository but also merges them into your current working branch automatically.\n",
        "* **Fetch**: Fetch only downloads changes from a remote repository and stores them in your local repository but doesn't automatically merge them into your current working branch.\n",
        "  * Use “fetch” when you want to see what changes exist in the remote repository but don't want to merge them immediately.\n",
        "  * This allows you to review changes before deciding to merge.\n",
        "* **Conflict**: A conflict occurs in Git when multiple people make changes to the same part of a file, and Git can't automatically decide which changes to accept.\n",
        "  * To resolve a conflict, you need to manually edit the file, keeping the changes you want and removing the conflicting parts.\n",
        "  * After resolving the conflict, you can commit the resolved file.\n",
        "\n",
        "<img src = https://d2beiqkhq929f0.cloudfront.net/public_assets/assets/000/063/308/original/git5.png?1706120432 height = 400 width = 500>"
      ],
      "metadata": {
        "id": "4os0R6tSq0An"
      }
    },
    {
      "cell_type": "markdown",
      "source": [
        "---"
      ],
      "metadata": {
        "id": "QanxdkNdvgwB"
      }
    },
    {
      "cell_type": "markdown",
      "source": [
        "### Collaborative Development"
      ],
      "metadata": {
        "id": "Q3OBxn0Ys-oq"
      }
    },
    {
      "cell_type": "markdown",
      "source": [
        "The main branch (often called “master” or “main”) in a Git repository typically represents the stable and production-ready version of your project.\n",
        "\n",
        "#### The complete pipeline theoretically looks like -\n",
        "1. **Pulling Code**: Start by making sure you have the latest code from the main branch.\n",
        "2. **Creating a New Branch**: If you’re working on a new feature or bug fix, create a new branch from the main branch. This branch will contain your changes.\n",
        "3. **Making Changes**: Work on your code changes within your feature branch.\n",
        "4. **Committing Changes**: Return to GitHub Desktop. You should see your changes listed under “Changes.” Write a descriptive commit message and click the “Commit” button to save your changes."
      ],
      "metadata": {
        "id": "25zbauGluQbF"
      }
    },
    {
      "cell_type": "markdown",
      "source": [
        "<img src = https://d2beiqkhq929f0.cloudfront.net/public_assets/assets/000/063/312/original/pull1.png?1706121091 height = 320 width = 650>"
      ],
      "metadata": {
        "id": "POObGB4qvTUx"
      }
    },
    {
      "cell_type": "markdown",
      "source": [
        "---"
      ],
      "metadata": {
        "id": "Ff5KgQxdAcM2"
      }
    },
    {
      "cell_type": "markdown",
      "source": [
        "### Branching and Merging"
      ],
      "metadata": {
        "id": "A5fVCWyK0pzg"
      }
    },
    {
      "cell_type": "markdown",
      "source": [
        "* Git branches are effectively a pointer to a snapshot of your changes.\n",
        "* When you want to add a new feature or fix a bug, no matter how big or how small, you spawn a new branch to encapsulate your changes.\n",
        "\n",
        "<img src = https://d2beiqkhq929f0.cloudfront.net/public_assets/assets/000/064/146/original/bran567.PNG?1707119206 height = 330 width = 500>"
      ],
      "metadata": {
        "id": "YHGh0g2gPOtq"
      }
    },
    {
      "cell_type": "markdown",
      "source": [
        "1. Let's create a new branch say `branch1` and make some changes in the README file. Then commit to `branch1` and push it.\n",
        "2. If we go to our github repository, we can see that there is a new branch and an option to compare and pull request."
      ],
      "metadata": {
        "id": "_G2AAHWG0stp"
      }
    },
    {
      "cell_type": "markdown",
      "source": [
        "<img src = https://d2beiqkhq929f0.cloudfront.net/public_assets/assets/000/063/315/original/bran1.png?1706122640 height = 400 width = 700>"
      ],
      "metadata": {
        "id": "SrapZaIA1SI0"
      }
    },
    {
      "cell_type": "markdown",
      "source": [
        "<img src= https://d2beiqkhq929f0.cloudfront.net/public_assets/assets/000/063/316/original/bran2.png?1706122931 height = 400 width = 700>"
      ],
      "metadata": {
        "id": "8uX9OrFB2Me_"
      }
    },
    {
      "cell_type": "markdown",
      "source": [
        "3. The first thing we want to do is create a pull request to compare the changes of `branch1` with the `main` branch.\n",
        "4. Because you are the owner of the repository, you can review and merge the pull request."
      ],
      "metadata": {
        "id": "YMV4gu4m2-d5"
      }
    },
    {
      "cell_type": "markdown",
      "source": [
        "<img src = https://d2beiqkhq929f0.cloudfront.net/public_assets/assets/000/063/317/original/pullr1.png?1706123145 height = 400 width = 750>"
      ],
      "metadata": {
        "id": "cJ5AZxoi3AQ2"
      }
    },
    {
      "cell_type": "markdown",
      "source": [
        "5. Once merged, you have the option to delete the `branch1` and you will see that the changes in README file are visible in the `main` branch."
      ],
      "metadata": {
        "id": "dK95wpQe4QXu"
      }
    },
    {
      "cell_type": "markdown",
      "source": [
        "### Resolving Conflicts\n",
        "\n",
        "* If while merging, there are two conflicting or different changes to same line of a file, GitHub is not sure which one to keep.\n",
        "* In that case, you must manually check that to resolve the conflict. After that you can mark as resolved and merge."
      ],
      "metadata": {
        "id": "JgIIQiy19QS2"
      }
    },
    {
      "cell_type": "markdown",
      "source": [
        "---"
      ],
      "metadata": {
        "id": "e04PhgISvidR"
      }
    },
    {
      "cell_type": "markdown",
      "source": [
        "### Contributing to a Project"
      ],
      "metadata": {
        "id": "B4XbvBhu49GS"
      }
    },
    {
      "cell_type": "markdown",
      "source": [
        "### Forking\n",
        "\n",
        "* It is a way to make a personal copy of a public or open-source repository on a platform like GitHub.\n",
        "* When you fork a repository, you create an identical copy of that repository in your GitHub account."
      ],
      "metadata": {
        "id": "xmXCBV8t4_yG"
      }
    },
    {
      "cell_type": "markdown",
      "source": [
        "### Cloning\n",
        "\n",
        "* You can create a local copy of any repository on GitHub that you have access to by cloning the repository.\n",
        "* [Read this](https://docs.github.com/en/desktop/adding-and-cloning-repositories/cloning-a-repository-from-github-to-github-desktop) to see how to clone a repository to GitHub Desktop."
      ],
      "metadata": {
        "id": "8-6lZ91Z7jOO"
      }
    },
    {
      "cell_type": "markdown",
      "source": [
        "Try forking and cloning : https://github.com/octocat/Spoon-Knife\n",
        "<br>This is a demo repository meant for trying out forking.\n",
        "\n",
        "<img src = https://d2beiqkhq929f0.cloudfront.net/public_assets/assets/000/064/126/original/spoon1.PNG?1707068598 height = 400 width = 700>\n",
        "\n",
        "<img src = https://d2beiqkhq929f0.cloudfront.net/public_assets/assets/000/064/127/original/spoo2.PNG?1707068811 height = 400 width = 700>\n",
        "\n",
        "\n"
      ],
      "metadata": {
        "id": "z4U70jVQKQV2"
      }
    },
    {
      "cell_type": "markdown",
      "source": [
        "* When you clone a repository, any changes you push to GitHub will affect the original repository.\n",
        "* To make changes without modifying the original project, you can create a separate copy by forking the repository.\n",
        "* You can create a pull request to propose that maintainers incorporate the changes in your fork into the original upstream repository."
      ],
      "metadata": {
        "id": "gm_k3LKOKmUv"
      }
    },
    {
      "cell_type": "markdown",
      "source": [
        "When you're ready to propose changes into the main project -\n",
        "\n",
        "1. Head on over to the repository on GitHub where your project lives.\n",
        "2. Click **Contribute** and then Open a pull request.\n",
        "3. GitHub will bring you to a page that shows the differences between your fork and the original repository.\n",
        "4. Click **Create pull request**.\n",
        "5. GitHub will bring you to a page where you can enter a title and a description of your changes.\n",
        "6. It's important to provide as much useful information and a rationale for why you're making this pull request in the first place.\n",
        "7. Click **Create pull request**.\n",
        "\n",
        "<img src = https://d2beiqkhq929f0.cloudfront.net/public_assets/assets/000/064/129/original/pullre3.PNG?1707070622 height = 400 width = 700>"
      ],
      "metadata": {
        "id": "BYy2_swIRYyP"
      }
    },
    {
      "cell_type": "markdown",
      "source": [
        "---"
      ],
      "metadata": {
        "id": "YZf8fWAm9-RL"
      }
    },
    {
      "cell_type": "markdown",
      "source": [
        "## Git using CLI"
      ],
      "metadata": {
        "id": "5U5iEBZg95ij"
      }
    },
    {
      "cell_type": "markdown",
      "source": [
        "### Installing Git\n",
        "\n",
        "Git comes pre-installed in some Macs and Linux-based systems, but you can always check if you have Git installed in your machine by typing `git --version` in your terminal.\n",
        "\n",
        "https://www.atlassian.com/git/tutorials/install-git\n"
      ],
      "metadata": {
        "id": "3GxcaPmYWE9s"
      }
    },
    {
      "cell_type": "markdown",
      "source": [
        "We will start by creating a folder `github_test` and open that in the terminal.\n",
        "\n",
        "We will add some files into that folder\n",
        "* `python_file.py` : which has one statement print(“python file”)\n",
        "* `text_file.txt` : that has single line text file\n",
        "\n",
        "Now, these files are in our local system. How to get them on github?"
      ],
      "metadata": {
        "id": "TzFp5QCAaLDN"
      }
    },
    {
      "cell_type": "markdown",
      "source": [
        "---"
      ],
      "metadata": {
        "id": "mHpFG7dPyhnJ"
      }
    },
    {
      "cell_type": "markdown",
      "source": [
        "### Git Help\n",
        "\n",
        "If you are having trouble remembering commands or options for commands, you can use Git help.\n",
        "\n",
        "There are a couple of different ways you can use the help command in command line or see all the available options for the specific command.\n",
        "\n",
        "* `git help <command>`\n",
        "* `git <command> help`\n",
        "* `git help --all`"
      ],
      "metadata": {
        "id": "CmLw3BlObJ_z"
      }
    },
    {
      "cell_type": "markdown",
      "source": [
        "---"
      ],
      "metadata": {
        "id": "BOosOChLygl-"
      }
    },
    {
      "cell_type": "markdown",
      "source": [
        "### Initialize Git\n",
        "\n",
        "Once you have navigated to the correct folder which in our case is the github_test folder with our two files, you can initialize Git on that folder:\n",
        "* `git init`\n",
        "\n",
        "The `git init` command creates a new Git repository. It can be used to convert an existing, unversioned project to a Git repository or initialize a new, empty repository.\n",
        "\n",
        "We can check what's in our folder now.\n",
        "\n",
        "<img src = https://d2beiqkhq929f0.cloudfront.net/public_assets/assets/000/063/322/original/git44.png?1706150394 height = 200 width = 500>"
      ],
      "metadata": {
        "id": "GmKiiOCNb8RP"
      }
    },
    {
      "cell_type": "markdown",
      "source": [
        "---"
      ],
      "metadata": {
        "id": "JxPr86tPyfop"
      }
    },
    {
      "cell_type": "markdown",
      "source": [
        "### Staging Environment\n",
        "\n",
        "* One of the core functions of Git is the concepts of the `Staging Environment`, and the `Commit`.\n",
        "\n",
        "* As you are working, you may be adding, editing and removing files. But whenever you hit a milestone or finish a part of the work, you should add the files to a Staging Environment.\n",
        "\n",
        "* Git has three main states that your files can reside in: **modified**, **staged**, and **committed**.\n",
        "\n",
        "  * **Modified** means that you have changed the file but have not committed it to your database yet.\n",
        "  * **Staged** means that you have marked a modified file in its current version to go into your next commit snapshot."
      ],
      "metadata": {
        "id": "yjUHm63_sWrY"
      }
    },
    {
      "cell_type": "markdown",
      "source": [
        "---"
      ],
      "metadata": {
        "id": "V1QxP1xTyevk"
      }
    },
    {
      "cell_type": "markdown",
      "source": [
        "### Git Status\n",
        "\n",
        "The `git status` command displays the state of the working directory and the staging area.\n",
        "\n",
        "It lets you see which changes have been staged, which haven't, and which files aren't being tracked by Git.\n",
        "\n",
        "<img src = https://d2beiqkhq929f0.cloudfront.net/public_assets/assets/000/063/381/original/giy7.png?1706168738 height = 300 width = 600>\n"
      ],
      "metadata": {
        "id": "fSsAHORNrnVh"
      }
    },
    {
      "cell_type": "markdown",
      "source": [
        "---"
      ],
      "metadata": {
        "id": "ICmGsvBnydmj"
      }
    },
    {
      "cell_type": "markdown",
      "source": [
        "### Git Add\n",
        "\n",
        "* The `git add` command adds a change in the working directory to the staging area.\n",
        "\n",
        "<img src = https://d2beiqkhq929f0.cloudfront.net/public_assets/assets/000/063/326/original/stg3.png?1706154090 height = 200 width = 500>\n",
        "\n",
        "* Using `--all` instead of individual file names will stage all changes (new, modified, and deleted) files.\n",
        "\n"
      ],
      "metadata": {
        "id": "Im_cl_rNtE_i"
      }
    },
    {
      "cell_type": "markdown",
      "source": [
        "---"
      ],
      "metadata": {
        "id": "15q7pYJWyciq"
      }
    },
    {
      "cell_type": "markdown",
      "source": [
        "### Git Commit\n",
        "\n",
        "* Adding commits keep track of our progress and changes as we work. Git considers each commit change point or `Save Point.\n",
        "\n",
        "<img src = https://d2beiqkhq929f0.cloudfront.net/public_assets/assets/000/063/327/original/stg6.png?1706154424 height = 250 width = 500>\n",
        "\n",
        "`git commit -m \"first commit\"`\n",
        "\n",
        "* By adding clear messages to each commit, it is easy for yourself (and others) to see what has changed and when.\n"
      ],
      "metadata": {
        "id": "V9xDS_QduXL6"
      }
    },
    {
      "cell_type": "markdown",
      "source": [
        "---"
      ],
      "metadata": {
        "id": "oVSeTGVoyZ4f"
      }
    },
    {
      "cell_type": "markdown",
      "source": [
        "### Git Reset\n",
        "\n",
        "* `git reset` is the command we use when we want to move the repository back to a previous commit, discarding any changes made after that commit."
      ],
      "metadata": {
        "id": "WP-47ciCvHy4"
      }
    },
    {
      "cell_type": "markdown",
      "source": [
        "---"
      ],
      "metadata": {
        "id": "KQUW7eiWyZjf"
      }
    },
    {
      "cell_type": "markdown",
      "source": [
        "### Git Branches\n",
        "\n",
        "<img src = https://d2beiqkhq929f0.cloudfront.net/public_assets/assets/000/063/328/original/tre4.png?1706155236 height = 150 width = 800>\n",
        "\n",
        "* One of Git's biggest advantages is its branching capabilities.\n",
        "\n",
        "* **This allows someone to branch off of the master branch (where the production-quality code typically remains) and work on a feature or fix independently of the rest of the project.**\n",
        "\n",
        "\n"
      ],
      "metadata": {
        "id": "DpeCdb0gxZAj"
      }
    },
    {
      "cell_type": "markdown",
      "source": [
        "---"
      ],
      "metadata": {
        "id": "vXSCUyCHyYFI"
      }
    },
    {
      "cell_type": "markdown",
      "source": [
        "### New Git Branch\n",
        "\n",
        "* Now we want to add some new features to our `python_file.py` page.\n",
        "\n",
        "* We are working in our local repository, and we do not want to disturb or possibly wreck the main project.\n",
        "\n",
        "* So we create a new branch: `git branch feature1`\n",
        "\n",
        "<img src = https://d2beiqkhq929f0.cloudfront.net/public_assets/assets/000/063/329/original/fea4.png?1706155984 height = 70 width = 650>\n",
        "\n",
        "* We can see that we have two branches now. The the `*` beside main specifies that we are currently on that branch.\n",
        "\n"
      ],
      "metadata": {
        "id": "sC9QDXCpzzGO"
      }
    },
    {
      "cell_type": "markdown",
      "source": [
        "---"
      ],
      "metadata": {
        "id": "gWfwQ4OkyWw4"
      }
    },
    {
      "cell_type": "markdown",
      "source": [
        "### Git Checkout\n",
        "\n",
        "* The `git checkout` command lets you navigate between the branches created by git branch.\n",
        "\n",
        "* Checking out a branch updates the files in the working directory to match the version stored in that branch, and it tells Git to record all new commits on that branch.\n",
        "\n",
        "* And moves us from the current branch, to the one specified at the end of the comman.\n",
        "\n",
        "`git checkout feature1`\n",
        "\n",
        "\n"
      ],
      "metadata": {
        "id": "9FI4Abro1ojn"
      }
    },
    {
      "cell_type": "markdown",
      "source": [
        "---"
      ],
      "metadata": {
        "id": "gY04JBlWyV3S"
      }
    },
    {
      "cell_type": "markdown",
      "source": [
        "Now let's see just how quick and easy it is to work with different branches, and how well it works.\n",
        "\n",
        "We are currently on branch feature1. We added a file to this branch, so let's list the files in the current directory using `ls`.\n",
        "\n",
        "`ls`\n",
        "\n",
        "<img src = https://d2beiqkhq929f0.cloudfront.net/public_assets/assets/000/063/354/original/ls5.png?1706165491 height = 40 width = 500>\n"
      ],
      "metadata": {
        "id": "SbzlE8umYAt1"
      }
    },
    {
      "cell_type": "markdown",
      "source": [
        "### Git Switch Branch\n",
        "\n",
        "* The git switch command is one of the latest commands being added to the list of Git commands. The git switch command was added in Git version 2.23.\n",
        "\n",
        "* It can be seen as an alternative to its ancestor `git checkout` command.\n",
        "\n",
        "`git switch main`\n",
        "\n",
        "<img src = https://d2beiqkhq929f0.cloudfront.net/public_assets/assets/000/063/357/original/sw34.png?1706165748 height = 70 width = 600>\n",
        "\n",
        "* We can see there that git manages the files. We can see that if we list files we don't see the `file2.txt`.\n",
        "\n",
        "\n"
      ],
      "metadata": {
        "id": "GXBDSz4YZFks"
      }
    },
    {
      "cell_type": "markdown",
      "source": [
        "---"
      ],
      "metadata": {
        "id": "M3sgM_SUEc-I"
      }
    },
    {
      "cell_type": "markdown",
      "source": [
        "### Git Merge Branch\n",
        "\n",
        "* Let's say now you have worked on the feature and tested it.\n",
        "\n",
        "* Now we need to add the code to the main branch.\n",
        "\n",
        "`git merge feature1`\n",
        "\n",
        "<img src = https://d2beiqkhq929f0.cloudfront.net/public_assets/assets/000/063/361/original/mer7.png?1706166266 height = 180 width = 600>\n",
        "\n",
        "* We can now see that when we list files in the main branch as well, we can see the new file there.\n",
        "\n"
      ],
      "metadata": {
        "id": "MVUwMPPubSb8"
      }
    },
    {
      "cell_type": "markdown",
      "source": [
        "---"
      ],
      "metadata": {
        "id": "CQkCU7DpEeE3"
      }
    },
    {
      "cell_type": "markdown",
      "source": [
        "### Git Stash\n",
        "\n",
        "* `git stash` temporarily shelves (or stashes) changes you've made to your working copy so you can work on something else, and then come back and re-apply them later on.\n",
        "\n",
        "* Stashing is handy if you need to quickly switch context and work on something else, but you're mid-way through a code change and aren't quite ready to commit."
      ],
      "metadata": {
        "id": "S3_W_mKBctHu"
      }
    },
    {
      "cell_type": "markdown",
      "source": [
        "---"
      ],
      "metadata": {
        "id": "bdOqz8Y6EfP8"
      }
    },
    {
      "cell_type": "markdown",
      "source": [
        "### Creating a github repository -"
      ],
      "metadata": {
        "id": "vHoJpUqahGSs"
      }
    },
    {
      "cell_type": "markdown",
      "source": [
        "Make sure you have a GitHub account.\n",
        "\n"
      ],
      "metadata": {
        "id": "vI2sqnYdhYxD"
      }
    },
    {
      "cell_type": "markdown",
      "source": [
        "* A repository contains all of your project's files and each file's revision history.\n",
        "\n",
        "<img src = https://d2beiqkhq929f0.cloudfront.net/public_assets/assets/000/063/380/original/fer5.png?1706168677 height = 500 width = 500>\n",
        "\n",
        "* Name the repo as `github_test`.\n",
        "* Change it to private / public, add README and click create.\n",
        "\n",
        "<img src = https://d2beiqkhq929f0.cloudfront.net/public_assets/assets/000/063/384/original/deg3.png?1706169533 height = 400 width = 800>\n",
        "\n",
        "* Copy the url from the highlighted quick setup link for https.\n"
      ],
      "metadata": {
        "id": "CSDvugtIhguC"
      }
    },
    {
      "cell_type": "markdown",
      "source": [
        "---"
      ],
      "metadata": {
        "id": "k1yeX8D6I1ks"
      }
    },
    {
      "cell_type": "markdown",
      "source": [
        "### Creating Access Token on GitHub\n",
        "\n",
        "First of all, you must create a personal Access Token on GitHub.\n",
        "\n",
        "1. Click on your GitHub profile icon on the top right corner\n",
        "2. Click Settings\n",
        "3. From the menu shown on the left, click Developer Settings\n",
        "4. Click Personal access tokens classic\n",
        "5. Click Generate new token\n",
        "6. Add a note that will help you identify the scope of the access token to be generated\n",
        "7. Choose the Expiration period from the drop down menu\n",
        "8. Select the scopes you want to grant the corresponding access to the generated access token\n",
        "9. Finally click Generate Token\n"
      ],
      "metadata": {
        "id": "5AEwVABGob4X"
      }
    },
    {
      "cell_type": "markdown",
      "source": [
        "By now, you should have generated your personal access token successfully and the following message should be visible on your screen.\n",
        "\n",
        "<img src = https://d2beiqkhq929f0.cloudfront.net/public_assets/assets/000/063/385/original/msg45.png?1706169958 height = 75 width = 800>"
      ],
      "metadata": {
        "id": "8nLUMfdHpouU"
      }
    },
    {
      "cell_type": "markdown",
      "source": [
        "To add a new remote, use the git remote add command on the terminal, in the directory your repository is stored at.\n",
        "\n",
        "`git remote set-url origin https://<githubtoken>@github.com/<username>/<repositoryname>.git`\n",
        "\n",
        "<img src = https://d2beiqkhq929f0.cloudfront.net/public_assets/assets/000/063/387/original/fki3.png?1706170195 height = 200 width = 800>"
      ],
      "metadata": {
        "id": "zhnIyiyaqUhy"
      }
    },
    {
      "cell_type": "markdown",
      "source": [
        "---"
      ],
      "metadata": {
        "id": "HYuhvgh-KPxW"
      }
    },
    {
      "cell_type": "markdown",
      "source": [
        "### Git Push & Pull"
      ],
      "metadata": {
        "id": "B1FyxrVCK_2f"
      }
    },
    {
      "cell_type": "markdown",
      "source": [
        "#### Git Push\n",
        "\n",
        "`git push -u origin main`\n",
        "\n",
        "* The `git push` command is used to upload local repository content to a remote repository.\n",
        "* Pushing is how you transfer commits from your local repository to a remote repo.\n",
        "* `-u` is a flag and used to set origin as the upstream remote in the git config.\n",
        "\n",
        "<img src = https://d2beiqkhq929f0.cloudfront.net/public_assets/assets/000/063/388/original/bfj3.png?1706171083 height = 250 width = 700>\n",
        "\n",
        "* In Git, \"origin\" is a shorthand name for the remote repository that a project was originally cloned from.\n",
        "* More precisely, it is used instead of that original repository's URL - and thereby makes referencing much easier."
      ],
      "metadata": {
        "id": "iQR9OsCUrhQe"
      }
    },
    {
      "cell_type": "markdown",
      "source": [
        "#### Add a readme\n",
        "\n",
        "<img src = https://d2beiqkhq929f0.cloudfront.net/public_assets/assets/000/063/389/original/read66.png?1706171258 height = 200 width = 400>\n"
      ],
      "metadata": {
        "id": "RFhaeER1uFia"
      }
    },
    {
      "cell_type": "markdown",
      "source": [
        "#### Git Pull\n",
        "\n"
      ],
      "metadata": {
        "id": "szTMI8tzvFA2"
      }
    },
    {
      "cell_type": "markdown",
      "source": [
        "* The `git pull` command is used to fetch and download content from a remote repository and immediately update the local repository to match that content.\n",
        "\n",
        "* `pull` is a combination of 2 different commands:\n",
        "  * Fetch\n",
        "  * Merge\n",
        "\n",
        "`git pull origin`\n",
        "\n",
        "<img src = https://d2beiqkhq929f0.cloudfront.net/public_assets/assets/000/063/404/original/dhe2.png?1706179582 height = 150 width = 800>\n"
      ],
      "metadata": {
        "id": "nnBqByXGeW36"
      }
    },
    {
      "cell_type": "markdown",
      "source": [
        "---"
      ],
      "metadata": {
        "id": "sAxV69sxLFSD"
      }
    },
    {
      "cell_type": "markdown",
      "source": [
        "### Git Merge & Rebase\n",
        "\n",
        "\n"
      ],
      "metadata": {
        "id": "DG5SrPZbSnwB"
      }
    },
    {
      "cell_type": "markdown",
      "source": [
        "#### Git Merge\n",
        "\n",
        "`git merge feature main`\n",
        "\n",
        "* This creates a new “merge commit” in the feature branch that ties together the histories of both branches, giving you a branch structure that looks like this:\n",
        "\n",
        "<img src = https://d2beiqkhq929f0.cloudfront.net/public_assets/assets/000/063/406/original/mer55.png?1706180985 height = 300 width = 600>\n",
        "\n",
        "* Merging is nice because it's a non-destructive operation. The existing branches are not changed in any way.\n"
      ],
      "metadata": {
        "id": "xkIXIyAxU6iR"
      }
    },
    {
      "cell_type": "markdown",
      "source": [
        "#### Git Rebase\n",
        "\n",
        "* You can rebase the feature branch onto main branch using the following commands:\n",
        "\n",
        "  * `git checkout feature`\n",
        "  * `git rebase main`\n",
        "\n",
        "* This moves the entire feature branch to begin on the tip of the main branch, effectively incorporating all of the new commits in main.\n",
        "* But, instead of using a merge commit, rebasing re-writes the project history by creating brand new commits for each commit in the original branch.\n",
        "\n",
        "<img src = https://d2beiqkhq929f0.cloudfront.net/public_assets/assets/000/063/407/original/hfjg8.png?1706181431 height = 300 width = 600>\n",
        "\n",
        "* Rebase is used for maintaining a linear project history.\n",
        "* You will benefit from an eventual clean merge of your feature branch back into the main branch, perpetuating a clean history.\n",
        "\n",
        "\n"
      ],
      "metadata": {
        "id": "USkhY7jrU776"
      }
    },
    {
      "cell_type": "markdown",
      "source": [
        "---"
      ],
      "metadata": {
        "id": "K9PpevxuLOyV"
      }
    },
    {
      "cell_type": "markdown",
      "source": [
        "### GitHub Fork & Clone\n"
      ],
      "metadata": {
        "id": "GeV2g0ONWvjT"
      }
    },
    {
      "cell_type": "markdown",
      "source": [
        "* Any public Git repository can be forked or cloned.\n",
        "* A fork creates a completely independent copy of the Git repository.\n",
        "* A Git clone creates a linked copy that will continue to synchronize with the target repository. (Changes made to the cloned repository cannot be merged with the original repository unless you are the collaborator or the owner of the repository)\n",
        "* Fork is not a command in Git\n",
        "* You can navigate to the landing page of the repository in your web browser and click on the Fork button on the repository's home page.\n",
        "* For cloning a repository you can use `git clone <repo url>`"
      ],
      "metadata": {
        "id": "FSGwSxVQfAA3"
      }
    },
    {
      "cell_type": "markdown",
      "source": [
        "---"
      ],
      "metadata": {
        "id": "YsVSzKdbFG35"
      }
    }
  ]
}